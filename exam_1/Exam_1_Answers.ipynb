{
 "cells": [
  {
   "cell_type": "markdown",
   "metadata": {},
   "source": [
    "# Exam 1: Eduardo Abenza Severá\n",
    "\n",
    "## Question 1\n",
    "\n",
    "- Copy the **Locus_Germplasm_Phenotype_20130122.txt** file into your copy of the **Exams Git**\n",
    "- Create a **new Jupyter Notebook** in your Exams folder called **\"Exam_1_Answers\"** using the 'bash' kernel\n",
    "- Do the rest of this exam inside of the \"Exam_1_Answers\" Notebook\n",
    "\n",
    "### Answer 1\n",
    "\n",
    "Inside the main folder **Accelerated_Intro_WilkinsonExams**, which contains the **Locus_Germplasm_Phenotype_20130122.txt** file, I have created this new Jupyter Notebook called **Exam_1_Answers**. All answers to Exam 1 Questions (**'Exam Week 1.ipynb'**) are found in this Notebook."
   ]
  },
  {
   "cell_type": "markdown",
   "metadata": {},
   "source": [
    "## Question 2a\n",
    "\n",
    "- Create a directory listing command that shows:\n",
    "    - the **ownership** of the file\n",
    "    - it's file-size, in **Megabytes** (i.e. human readable)\n",
    "    \n",
    "### Answer 2a\n",
    "\n",
    "To show the **ownership** of **Locus_Germplasm_Phenotype_20130122.txt**, we use *ls -l* Linux command. In addition to that, I'm including in this listing the option *-h*, to indicate the size of this file in a **human-readable** way. The size of this file appears in **Mb**:"
   ]
  },
  {
   "cell_type": "code",
   "execution_count": null,
   "metadata": {},
   "outputs": [],
   "source": [
    "ls -lh Locus_Germplasm_Phenotype_20130122.txt"
   ]
  },
  {
   "cell_type": "markdown",
   "metadata": {},
   "source": [
    "## Question 2b\n",
    "\n",
    "- Then, in words (in a Markdown box), describe the permissions on that file (read/write/execute) for users, groups, and \"anyone\"\n",
    "\n",
    "### Answer 2b\n",
    "\n",
    "Looking at the output of the previous code cell, we can state that:\n",
    "\n",
    "- Users can **read and write** this file, but **they can't execute** it.\n",
    "- Groups can **read and write** this file, but **they can't execute** it.\n",
    "- \"Anyone\" can **read** this file, but **they are not able to write or execute** it."
   ]
  },
  {
   "cell_type": "markdown",
   "metadata": {},
   "source": [
    "## Question 3\n",
    "\n",
    "- Create a command that outputs only the \"header\" line of Locus_Germplasm_Phenotype_20130122.txt\n",
    "\n",
    "### Answer 3\n",
    "\n",
    "To output only the header line of Locus_Germplasm_Phenotype_20130122.txt file (i.e., the first line), I'm using simply *head -1* Linux command.\n",
    "\n"
   ]
  },
  {
   "cell_type": "code",
   "execution_count": null,
   "metadata": {},
   "outputs": [],
   "source": [
    "head -1 Locus_Germplasm_Phenotype_20130122.txt"
   ]
  },
  {
   "cell_type": "markdown",
   "metadata": {},
   "source": [
    "In the previous code cell, we can see the name of the four columns in this file: **Locus_name)**, **Germplasm_name**, **phenotype** and **pubmed_id**.\n",
    "\n",
    "## Question 4\n",
    "\n",
    "- Create a command that outputs the total number of lines in Locus_Germplasm_Phenotype_20130122.txt\n",
    "\n",
    "### Answer 4\n",
    "\n",
    "In this piece of code, I'm calculating the total number of lines in this file. To do this in a clean manner, first I'm reading the content of the file using *cat* Linux command and then I'm piping this content into a line count (*wc -l*).\n",
    "\n",
    "If I missed the first step of reading the file with *cat*, the file name would appear next to the line count and I don't like it that way."
   ]
  },
  {
   "cell_type": "code",
   "execution_count": null,
   "metadata": {},
   "outputs": [],
   "source": [
    "cat Locus_Germplasm_Phenotype_20130122.txt | wc -l"
   ]
  },
  {
   "cell_type": "markdown",
   "metadata": {},
   "source": [
    "## Question 5a\n",
    "\n",
    "- Create a command that writes ONLY the data lines (i.e. excludes the header!) to a new file called \"Data_Only.csv\"\n",
    "\n",
    "### Answer 5a\n",
    "\n",
    "As we saw in the previous question, this file has 7216 lines. The aim of this one is to exclude only the header, that is, the first line of the file.\n",
    "\n",
    "This task can be achieved easily by using Linux command *tail -N*, which outputs the last N lines of a file. Taking into account that the header is the first line, it would be a nice idea to write the **last 7215 lines** of this file into *Data_Only.csv*."
   ]
  },
  {
   "cell_type": "code",
   "execution_count": null,
   "metadata": {},
   "outputs": [],
   "source": [
    "tail -7215 Locus_Germplasm_Phenotype_20130122.txt > Data_Only.csv"
   ]
  },
  {
   "cell_type": "markdown",
   "metadata": {},
   "source": [
    "## Question 5b\n",
    "\n",
    "- Prove that your output file has the expected number of lines.\n",
    "\n",
    "### Answer 5b\n",
    "To prove that the output of Data_Only.csv file has the expected number of lines (this is, 7215 lines, 1 line shorter than the original file), we can obtain their total number of lines using *wc -l*.\n",
    "\n",
    "This time, I have decided to include the file name next to its total number of lines, to provide further clarity."
   ]
  },
  {
   "cell_type": "code",
   "execution_count": null,
   "metadata": {},
   "outputs": [],
   "source": [
    "wc -l Locus_Germplasm_Phenotype_20130122.txt\n",
    "wc -l Data_Only.csv\n",
    "echo \"\"\n",
    "echo \"\"\n",
    "echo \"    These are the first 3 lines in Locus_Germplasm_Phenotype_20130122.txt:\"\n",
    "echo \"\"\n",
    "head -3 Locus_Germplasm_Phenotype_20130122.txt\n",
    "echo \"\"\n",
    "echo \"\"\n",
    "echo \"    And these are the first 3 lines in Data_Only.csv:\"\n",
    "echo \"\"\n",
    "head -3 Data_Only.csv "
   ]
  },
  {
   "cell_type": "markdown",
   "metadata": {},
   "source": [
    "We can see that the file I have generated has exactly 7215 lines, which is one line shorter than the original document. We can also see the first three lines in the original file and in *Data_Only.csv*, which shows that the one line missing in the new file is the header.\n",
    "\n",
    "## Question 6\n",
    "\n",
    "- Create a command that shows all of the lines that have a phenotype including the word \"root\"\n",
    "\n",
    "### Answer 6\n",
    "\n",
    "To complete this task, I'm using *grep* command to search for a specific pattern in Locus_Germplasm_Phenotype_20130122.txt. This pattern is the word *root*, either singular or plural, and in a case-insensitive way. \n",
    "\n",
    ">I think it is important to write the *grep* option *-a*, to process a binary file as if it were text; it is useful to avoid complications when working with files of unknown origin (for example, a file written using Windows can cause problems when analysing it with Linux).\n",
    "\n",
    "Finally, as a matter of clarity, I am also including the line number right before the matching line.\n",
    "\n",
    "This is the code I'm using:"
   ]
  },
  {
   "cell_type": "code",
   "execution_count": null,
   "metadata": {},
   "outputs": [],
   "source": [
    "grep -Eain 'root' Locus_Germplasm_Phenotype_20130122.txt"
   ]
  },
  {
   "cell_type": "markdown",
   "metadata": {},
   "source": [
    "## Question 7\n",
    "\n",
    "- Create a command that writes the AGI Locus Code for every line that has a phenotype including the word \"root\" to a file called: Root-associated-Loci.txt\n",
    "\n",
    "### Answer 7\n",
    "\n",
    "In order to solve this exercise, I'm piping the output of the previous code cell into another grep command. In this second *grep* command, I'm looking for this pattern (indeed, this is the pattern indicated in the Exam 1 initial description):\n",
    "\n",
    "- An A (located right after the beginning of the line) followed by a T.\n",
    "    - Followed by one number between 1 and 5, both included.\n",
    "        - Followed by a G, which in turn is followed by exactly five numbers.\n",
    "\n",
    "In a case-insensitive way (*-i*). At the end, I **only** want the **AGI Loci Codes**, so I'm also including *-o* in the *grep* command.\n",
    "\n",
    "Lastly, I'm writing this output in a new file called **Root-associated-Loci.txt**. Then:"
   ]
  },
  {
   "cell_type": "code",
   "execution_count": null,
   "metadata": {},
   "outputs": [],
   "source": [
    "grep -Eia 'root' Locus_Germplasm_Phenotype_20130122.txt | grep -Eoia '^AT[1-5]G[0-9]{5}' > Root-associated-Loci.txt"
   ]
  },
  {
   "cell_type": "markdown",
   "metadata": {},
   "source": [
    "## Question 8\n",
    "\n",
    "- Create a command that writes the PubMed ID for every line that has a phenotype including the word \"root\" to a file called: Root-associated-Publications.txt\n",
    "\n",
    "### Answer 8\n",
    "\n",
    "The **PubMed ID** is located at the **end of the line**, and it is compound by a **variable length of numbers** between 0 and 9, both included. Then, first I'm using *grep* to look for all lines containing the word 'root', and then I search for this PubMed ID in the matching lines. In the final file **Root-associated-Publications.txt** I only want PubMed IDs, so I'm including *-o* in the second *grep* command."
   ]
  },
  {
   "cell_type": "code",
   "execution_count": null,
   "metadata": {},
   "outputs": [],
   "source": [
    "grep -Eia 'root' Locus_Germplasm_Phenotype_20130122.txt | grep -Eoa '[0-9]+$' > Root-associated-Publications.txt"
   ]
  },
  {
   "cell_type": "markdown",
   "metadata": {},
   "source": [
    "## Question 9\n",
    "\n",
    "- Control experiment: You would hypothesize that genes associated with roots should be found on all chromosomes. Find a way (one or more commands) to test this hypothesis. In this dataset, is the hypothesis true? \n",
    "\n",
    "### Answer 9\n",
    "\n",
    "To perform this control experiment, I'm using *grep* to look secuencially for AT1, AT2, AT3, AT4 and AT5 at the beginning of all lines in **Root-associated-Loci.txt**, in a case-insensitive way.\n",
    "\n",
    "- Firstly, I'm looking for the first three characters in each line in **Root-associated-Loci.txt** file, so that I can obtain all different sets of three characters at the beginning of a line in this file with the Linux command *uniq*.\n",
    "\n",
    "- After that, I'm counting the number of phenotypes containing the word 'root' associated to each chromosome. I'm using *grep* to look secuencially for AT1, AT2, AT3, AT4 and AT5 at the beginning of all lines in **Root-associated-Loci.txt**, in a case-insensitive way, in order to count the number of matches for each chromosome."
   ]
  },
  {
   "cell_type": "code",
   "execution_count": null,
   "metadata": {},
   "outputs": [],
   "source": [
    "echo \"    These are the chromosomes present in Root-associated-Loci.txt:\"\n",
    "echo \"\"\n",
    "grep -Eioa '^\\w{3}' Root-associated-Loci.txt | uniq\n",
    "echo \"\"\n",
    "echo \"\"\n",
    "echo \"    How many of the described phenotypes are associated to each chromosome?\"\n",
    "echo \"\"\n",
    "echo \"Chromosome 1\"\n",
    "grep -Eioa '^AT1' Root-associated-Loci.txt | wc -l\n",
    "echo \"\"\n",
    "echo \"Chromosome 2\"\n",
    "grep -Eioa '^AT2' Root-associated-Loci.txt | wc -l\n",
    "echo \"\"\n",
    "echo \"Chromosome 3\"\n",
    "grep -Eioa '^AT3' Root-associated-Loci.txt | wc -l\n",
    "echo \"\"\n",
    "echo \"Chromosome 4\"\n",
    "grep -Eioa '^AT4' Root-associated-Loci.txt | wc -l\n",
    "echo \"\"\n",
    "echo \"Chromosome 5\"\n",
    "grep -Eioa '^AT5' Root-associated-Loci.txt | wc -l\n",
    "echo \"\"\n",
    "echo \"\"\n",
    "echo '    But, among these phenotypes, how many different genes \"related\" to roots are there in each chromosome?'\n",
    "echo \"\"\n",
    "echo \"Chromosome 1\"\n",
    "grep -Eoia '^AT1G[0-9]{5}' Root-associated-Loci.txt | uniq | wc -l\n",
    "echo \"\"\n",
    "echo \"Chromosome 2\"\n",
    "grep -Eoia '^AT2G[0-9]{5}' Root-associated-Loci.txt | uniq | wc -l\n",
    "echo \"\"\n",
    "echo \"Chromosome 3\"\n",
    "grep -Eoia '^AT3G[0-9]{5}' Root-associated-Loci.txt | uniq | wc -l\n",
    "echo \"\"\n",
    "echo \"Chromosome 4\"\n",
    "grep -Eoia '^AT4G[0-9]{5}' Root-associated-Loci.txt | uniq | wc -l\n",
    "echo \"\"\n",
    "echo \"Chromosome 5\"\n",
    "grep -Eoia '^AT5G[0-9]{5}' Root-associated-Loci.txt | uniq | wc -l"
   ]
  },
  {
   "cell_type": "markdown",
   "metadata": {},
   "source": [
    "- As we can see in the previous code cell, **genes associated with roots are found on all chromosomes**. \n",
    "- There are more **described phenotypes** related to 'root' for mutations in genes located in chromosome 5 (there are 248 matches) and they are less abundant in chromosome 4 (only 76 matches).\n",
    "- Finally, attending to **different genes**, there are more genes related to 'root' in chromosome 1 (118 genes, the highest number) and only 47 in chromosome 4 (the lowest).\n",
    "\n",
    "## Question 10\n",
    "\n",
    "- If your control experiment shows genes on every chromosome, then you can skip this question! (you answered Problem 9 correctly!)\n",
    "- If your control experiment shows genes only on one or two chromosomes, then you have to explain why... what could the problem be? (I told you specifically to be careful about this problem!)\n",
    "\n",
    "### Answer 10\n",
    "\n",
    "Root-associated genes are distributed among all chromosomes, so I'm skipping this question."
   ]
  },
  {
   "cell_type": "markdown",
   "metadata": {},
   "source": [
    "## Question 11\n",
    "\n",
    "- 'git commit' and 'git push' your answers to your GitHub, then give me your GitHub username before you leave the class. I will clone your repositories and grade your answers."
   ]
  }
 ],
 "metadata": {
  "kernelspec": {
   "display_name": "Bash",
   "language": "bash",
   "name": "bash"
  },
  "language_info": {
   "codemirror_mode": "shell",
   "file_extension": ".sh",
   "mimetype": "text/x-sh",
   "name": "bash"
  }
 },
 "nbformat": 4,
 "nbformat_minor": 2
}
